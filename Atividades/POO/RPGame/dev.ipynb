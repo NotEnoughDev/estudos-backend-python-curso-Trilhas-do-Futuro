{
 "cells": [
  {
   "cell_type": "markdown",
   "id": "57a039fc",
   "metadata": {},
   "source": [
    "# Introdução 👋\n",
    "----\n",
    "Olá, tudo bem? \n",
    "Seja Bem vindo ao meu caderno do Jupyter sobre o desenvolvimento do projeto/atividade p/ o meu curso do *Trilhas do Futuro*, TerminalRPG. \n",
    "\n",
    "## Sobre a Atividade:\n",
    "----\n",
    "Durante o curso e as aulas sobre POO, ele passou uma atividade onde desenvolveremos um programa que reune todos os conceitos em POO. Curiosamente, tive uma ideia, um jogo de RPG em Python usando ASCII para fazer uma interface no terminal. Todavia, estou nomeando este projeto de TerminalRPG.\n",
    "\n",
    "## Observações\n",
    "---- \n",
    "Como sempre os adverto: \"Não há verdade absoluta ou fatos eternos.\" No caso, o que faço ou escrevo aqui são apenas registro do meu aprendizado com o tempo, minha interpretação sobre o tópico então os convido para criticar e sugestões de como posso melhorar e no que eu estou errando ou fazendo errado. "
   ]
  },
  {
   "cell_type": "markdown",
   "id": "d39898e9",
   "metadata": {},
   "source": [
    "# Desenvolvimento/Changelog\n",
    "----"
   ]
  },
  {
   "cell_type": "markdown",
   "id": "a4c21dcb",
   "metadata": {},
   "source": [
    "## INDEV.0.1:\n",
    "- \"Prototipo\"; Corpo dos Menus p/versões futuras\n",
    "- Sistema de RPG simples com\n",
    "    - Movimentação (Norte, Sul, oeste, leste)\n",
    "    - Luta com inimigos\n",
    "    - Cura e fuga \n",
    "    - Status simples\n",
    "- Salvar progresso"
   ]
  },
  {
   "cell_type": "markdown",
   "id": "7429b346",
   "metadata": {},
   "source": [
    "# Referências\n",
    "----\n",
    "- https://www.youtube.com/playlist?list=PLIYv95CSVgLrlV8wkTAeOAHtw0It1NxT7\n",
    "- https://www.youtube.com/watch?v=rz_2ml0AQ4k&sttick=0\n",
    "- https://www.youtube.com/watch?v=DX1a8Uz12Xc&sttick=0\n",
    "- https://www.youtube.com/watch?v=LkjoUWVrVfg"
   ]
  }
 ],
 "metadata": {
  "language_info": {
   "name": "python"
  }
 },
 "nbformat": 4,
 "nbformat_minor": 5
}
